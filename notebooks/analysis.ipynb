{
 "cells": [
  {
   "cell_type": "code",
   "execution_count": 4,
   "id": "215f009e",
   "metadata": {},
   "outputs": [],
   "source": [
    "# Analysis notebook\n",
    "# How to Build a Contender: Analyzing What Makes Top College Teams of the Last Five Years Elite \n",
    "# 2021–2025\n",
    "\n",
    "# Import libraries\n",
    "import pandas as pd\n",
    "import matplotlib.pyplot as plt\n",
    "import seaborn as sns\n",
    "import os"
   ]
  },
  {
   "cell_type": "code",
   "execution_count": 5,
   "id": "af1bbe8a",
   "metadata": {},
   "outputs": [],
   "source": [
    "# File paths\n",
    "folder_path = \"../data/raw\"\n",
    "file_names = [\"cbb21.csv\", \"cbb22.csv\", \"cbb23.csv\", \"cbb24.csv\", \"cbb25.csv\"]\n",
    "season_map = {\n",
    "    \"cbb21.csv\": 2021,\n",
    "    \"cbb22.csv\": 2022,\n",
    "    \"cbb23.csv\": 2023,\n",
    "    \"cbb24.csv\": 2024,\n",
    "    \"cbb25.csv\": 2025\n",
    "}"
   ]
  },
  {
   "cell_type": "code",
   "execution_count": 6,
   "id": "f5dc6727",
   "metadata": {},
   "outputs": [],
   "source": [
    "# Load and tag each DataFrame with its season\n",
    "dfs = []\n",
    "for file in file_names:\n",
    "    path = os.path.join(folder_path, file)\n",
    "    df = pd.read_csv(path)\n",
    "    df[\"Season\"] = season_map[file]\n",
    "    dfs.append(df)\n",
    "    \n",
    "# Combine all years into a single DataFrame\n",
    "combined_df = pd.concat(dfs, ignore_index=True)"
   ]
  },
  {
   "cell_type": "code",
   "execution_count": 7,
   "id": "dd3d2823",
   "metadata": {},
   "outputs": [],
   "source": [
    "# Standardize team names (remove special chars, extra whitespace)\n",
    "combined_df[\"Team\"] = combined_df[\"Team\"].str.replace(r\"[^a-zA-Z0-9\\s]\", \"\", regex=True).str.strip()\n",
    "\n",
    "# Convert numeric columns (except for 'Team' and 'CONF')\n",
    "non_numeric = [\"Team\", \"CONF\"]\n",
    "numeric_cols = [col for col in combined_df.columns if col not in non_numeric]\n",
    "combined_df[numeric_cols] = combined_df[numeric_cols].apply(pd.to_numeric, errors=\"coerce\")"
   ]
  },
  {
   "cell_type": "code",
   "execution_count": 9,
   "id": "99831371",
   "metadata": {},
   "outputs": [
    {
     "name": "stdout",
     "output_type": "stream",
     "text": [
      "✅ Cleaned data saved to: data/processed/cleaned_cbb_2021_2025.csv\n"
     ]
    }
   ],
   "source": [
    "# Drop rows with missing key metrics (ADJOE, ADJDE, BARTHAG)\n",
    "clean_df = combined_df.dropna(subset=[\"ADJOE\", \"ADJDE\", \"BARTHAG\"])\n",
    "\n",
    "# Save cleaned data to processed folder\n",
    "output_path = \"data/processed/cleaned_cbb_2021_2025.csv\"\n",
    "os.makedirs(os.path.dirname(output_path), exist_ok=True)\n",
    "clean_df.to_csv(output_path, index=False)\n",
    "\n",
    "print(f\"✅ Cleaned data saved to: {output_path}\")"
   ]
  },
  {
   "cell_type": "code",
   "execution_count": 19,
   "id": "892642e0",
   "metadata": {},
   "outputs": [],
   "source": [
    "# Read cleaned csv\n",
    "df = pd.read_csv(\"data/processed/cleaned_cbb_2021_2025.csv\")\n",
    "\n",
    "# Flagging elite teams\n",
    "df[\"Elite_Team\"] = ((df[\"SEED\"] <= 4) | (df[\"BARTHAG\"] >= 0.95)).astype(int)\n",
    "\n",
    "# NCAA averages vs Illinois trends\n",
    "features = [\"ADJOE\", \"ADJDE\", \"EFG_O\", \"EFG_D\", \"TOR\", \"ORB\", \"DRB\"]\n",
    "ncaa_avg = df.groupby(\"Season\")[features].mean().reset_index()\n",
    "ncaa_avg[\"Team\"] = \"NCAA Average\"\n",
    "illinois_df = df[\n",
    "    df[\"Team\"].fillna(\"\").str.contains(\"Illinois\", case=False) &\n",
    "    ~df[\"Team\"].fillna(\"\").str.contains(\"State|Chicago|Eastern|Western|Southern|Northern\", case=False)\n",
    "]\n",
    "\n",
    "trend_df = pd.concat([illinois_df[[\"Season\", \"Team\"] + features], ncaa_avg])"
   ]
  },
  {
   "cell_type": "code",
   "execution_count": 24,
   "id": "a8d625fc",
   "metadata": {},
   "outputs": [
    {
     "data": {
      "image/png": "[encoded data removed]",
      "text/plain": [
       "<Figure size 640x480 with 1 Axes>"
      ]
     },
     "metadata": {},
     "output_type": "display_data"
    }
   ],
   "source": [
    "# Single year bar chart\n",
    "import seaborn as sns\n",
    "import matplotlib.pyplot as plt\n",
    "\n",
    "latest = df[df[\"Season\"] == 2025]\n",
    "subset = latest[latest[\"Team\"].isin([\"Illinois\", \"NCAA Average\"])]\n",
    "\n",
    "sns.barplot(data=subset, x=\"Team\", y=\"ADJOE\")\n",
    "plt.title(\"Adjusted Offensive Efficiency (2025)\")\n",
    "plt.ylabel(\"ADJOE\")\n",
    "plt.show()"
   ]
  }
 ],
 "metadata": {
  "kernelspec": {
   "display_name": "base",
   "language": "python",
   "name": "python3"
  },
  "language_info": {
   "codemirror_mode": {
    "name": "ipython",
    "version": 3
   },
   "file_extension": ".py",
   "mimetype": "text/x-python",
   "name": "python",
   "nbconvert_exporter": "python",
   "pygments_lexer": "ipython3",
   "version": "3.12.4"
  }
 },
 "nbformat": 4,
 "nbformat_minor": 5
}
