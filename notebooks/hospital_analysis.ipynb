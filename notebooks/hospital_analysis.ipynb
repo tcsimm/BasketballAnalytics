{
 "cells": [
  {
   "cell_type": "code",
   "execution_count": 1,
   "id": "88ec335f",
   "metadata": {},
   "outputs": [],
   "source": [
    "import pandas as pd\n",
    "from sklearn.preprocessing import LabelEncoder"
   ]
  },
  {
   "cell_type": "code",
   "execution_count": 6,
   "id": "b61d12fb",
   "metadata": {},
   "outputs": [],
   "source": [
    "# Load datasets\n",
    "train_df = pd.read_csv(\"/Users/thomassimmons/Downloads/healthcare/train_data.csv\")\n",
    "test_df = pd.read_csv(\"/Users/thomassimmons/Downloads/healthcare/test_data.csv\")"
   ]
  },
  {
   "cell_type": "code",
   "execution_count": 9,
   "id": "c1fced9e",
   "metadata": {},
   "outputs": [],
   "source": [
    "# Combine for consistent preprocessing\n",
    "train_df['is_train'] = 1 \n",
    "test_df['is_train'] = 0\n",
    "full_df = pd.concat([train_df, test_df], ignore_index=True)"
   ]
  },
  {
   "cell_type": "code",
   "execution_count": 14,
   "id": "5d29d9a9",
   "metadata": {},
   "outputs": [
    {
     "data": {
      "text/plain": [
       "Index(['case_id', 'hospital_code', 'hospital_type_code', 'city_code_hospital',\n",
       "       'hospital_region_code', 'available_extra_rooms_in_hospital',\n",
       "       'department', 'ward_type', 'ward_facility_code', 'bed_grade',\n",
       "       'patientid', 'city_code_patient', 'type_of_admission',\n",
       "       'severity_of_illness', 'visitors_with_patient', 'age',\n",
       "       'admission_deposit', 'stay', 'is_train'],\n",
       "      dtype='object')"
      ]
     },
     "execution_count": 14,
     "metadata": {},
     "output_type": "execute_result"
    }
   ],
   "source": [
    "# Make columns consistent\n",
    "full_df.columns"
   ]
  },
  {
   "cell_type": "code",
   "execution_count": 13,
   "id": "dac07ef7",
   "metadata": {},
   "outputs": [],
   "source": [
    "full_df.columns = full_df.columns.str.strip().str.lower().str.replace(\" \", \"_\")"
   ]
  },
  {
   "cell_type": "code",
   "execution_count": 17,
   "id": "e6218936",
   "metadata": {},
   "outputs": [
    {
     "name": "stderr",
     "output_type": "stream",
     "text": [
      "/var/folders/kf/nt6wlgn90dvc9wsk7ttkqs4w0000gn/T/ipykernel_33697/1166594256.py:8: FutureWarning: A value is trying to be set on a copy of a DataFrame or Series through chained assignment using an inplace method.\n",
      "The behavior will change in pandas 3.0. This inplace method will never work because the intermediate object on which we are setting values always behaves as a copy.\n",
      "\n",
      "For example, when doing 'df[col].method(value, inplace=True)', try using 'df.method({col: value}, inplace=True)' or df[col] = df[col].method(value) instead, to perform the operation inplace on the original object.\n",
      "\n",
      "\n",
      "  full_df[col].fillna(median_val, inplace=True)\n"
     ]
    }
   ],
   "source": [
    "# Fill missing numerical values with median\n",
    "full_df.isnull().sum()\n",
    "\n",
    "num_cols = ['bed_grade', 'city_code_patient']\n",
    "\n",
    "for col in num_cols:\n",
    "    median_val = full_df[col].median()\n",
    "    full_df[col].fillna(median_val, inplace=True)"
   ]
  },
  {
   "cell_type": "code",
   "execution_count": 19,
   "id": "1f3825db",
   "metadata": {},
   "outputs": [
    {
     "data": {
      "text/plain": [
       "case_id                                   0\n",
       "hospital_code                             0\n",
       "hospital_type_code                        0\n",
       "city_code_hospital                        0\n",
       "hospital_region_code                      0\n",
       "available_extra_rooms_in_hospital         0\n",
       "department                                0\n",
       "ward_type                                 0\n",
       "ward_facility_code                        0\n",
       "bed_grade                                 0\n",
       "patientid                                 0\n",
       "city_code_patient                         0\n",
       "type_of_admission                         0\n",
       "severity_of_illness                       0\n",
       "visitors_with_patient                     0\n",
       "age                                       0\n",
       "admission_deposit                         0\n",
       "stay                                 137057\n",
       "is_train                                  0\n",
       "dtype: int64"
      ]
     },
     "execution_count": 19,
     "metadata": {},
     "output_type": "execute_result"
    }
   ],
   "source": [
    "full_df.isnull().sum()\n"
   ]
  },
  {
   "cell_type": "code",
   "execution_count": 20,
   "id": "0650fba0",
   "metadata": {},
   "outputs": [
    {
     "name": "stderr",
     "output_type": "stream",
     "text": [
      "/var/folders/kf/nt6wlgn90dvc9wsk7ttkqs4w0000gn/T/ipykernel_33697/1182079955.py:5: FutureWarning: A value is trying to be set on a copy of a DataFrame or Series through chained assignment using an inplace method.\n",
      "The behavior will change in pandas 3.0. This inplace method will never work because the intermediate object on which we are setting values always behaves as a copy.\n",
      "\n",
      "For example, when doing 'df[col].method(value, inplace=True)', try using 'df.method({col: value}, inplace=True)' or df[col] = df[col].method(value) instead, to perform the operation inplace on the original object.\n",
      "\n",
      "\n",
      "  full_df[col].fillna(mode_val, inplace=True)\n"
     ]
    }
   ],
   "source": [
    "cat_cols = ['type_of_admission', 'severity_of_illness']\n",
    "\n",
    "for col in cat_cols:\n",
    "    mode_val = full_df[col].mode()[0]\n",
    "    full_df[col].fillna(mode_val, inplace=True)"
   ]
  },
  {
   "cell_type": "code",
   "execution_count": 22,
   "id": "0558e97c",
   "metadata": {},
   "outputs": [],
   "source": [
    "# Encode categorical features using LabelEncoder\n",
    "label_enc_cols = [\n",
    "    'hospital_type_code', 'department', 'ward_type', 'ward_facility_code',\n",
    "    'type_of_admission', 'severity_of_illness', 'age', 'hospital_region_code'\n",
    "]\n",
    "\n",
    "label_encoders = {}\n",
    "for col in label_enc_cols:\n",
    "    le = LabelEncoder()\n",
    "    full_df[col] = le.fit_transform(full_df[col].astype(str))\n",
    "    label_encoders[col] = le  # Store encoders for reverse transformation if needed\n",
    "\n",
    "# Split back into train and test\n",
    "clean_train_df = full_df[full_df['is_train'] == 1].drop(columns=['is_train'])\n",
    "clean_test_df = full_df[full_df['is_train'] == 0].drop(columns=['is_train', 'stay'])  # no target in test\n"
   ]
  }
 ],
 "metadata": {
  "kernelspec": {
   "display_name": "base",
   "language": "python",
   "name": "python3"
  },
  "language_info": {
   "codemirror_mode": {
    "name": "ipython",
    "version": 3
   },
   "file_extension": ".py",
   "mimetype": "text/x-python",
   "name": "python",
   "nbconvert_exporter": "python",
   "pygments_lexer": "ipython3",
   "version": "3.12.4"
  }
 },
 "nbformat": 4,
 "nbformat_minor": 5
}
