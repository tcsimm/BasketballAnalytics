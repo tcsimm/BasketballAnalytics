{
 "cells": [
  {
   "cell_type": "code",
   "execution_count": 1,
   "id": "88ec335f",
   "metadata": {},
   "outputs": [],
   "source": [
    "import pandas as pd\n",
    "from sklearn.preprocessing import LabelEncoder"
   ]
  },
  {
   "cell_type": "code",
   "execution_count": 6,
   "id": "b61d12fb",
   "metadata": {},
   "outputs": [],
   "source": [
    "# Load datasets\n",
    "train_df = pd.read_csv(\"/Users/thomassimmons/Downloads/healthcare/train_data.csv\")\n",
    "test_df = pd.read_csv(\"/Users/thomassimmons/Downloads/healthcare/test_data.csv\")"
   ]
  },
  {
   "cell_type": "code",
   "execution_count": 9,
   "id": "c1fced9e",
   "metadata": {},
   "outputs": [],
   "source": [
    "# Combine for consistent preprocessing\n",
    "train_df['is_train'] = 1 \n",
    "test_df['is_train'] = 0\n",
    "full_df = pd.concat([train_df, test_df], ignore_index=True)"
   ]
  },
  {
   "cell_type": "code",
   "execution_count": 14,
   "id": "5d29d9a9",
   "metadata": {},
   "outputs": [
    {
     "data": {
      "text/plain": [
       "Index(['case_id', 'hospital_code', 'hospital_type_code', 'city_code_hospital',\n",
       "       'hospital_region_code', 'available_extra_rooms_in_hospital',\n",
       "       'department', 'ward_type', 'ward_facility_code', 'bed_grade',\n",
       "       'patientid', 'city_code_patient', 'type_of_admission',\n",
       "       'severity_of_illness', 'visitors_with_patient', 'age',\n",
       "       'admission_deposit', 'stay', 'is_train'],\n",
       "      dtype='object')"
      ]
     },
     "execution_count": 14,
     "metadata": {},
     "output_type": "execute_result"
    }
   ],
   "source": [
    "# Make columns consistent\n",
    "full_df.columns"
   ]
  },
  {
   "cell_type": "code",
   "execution_count": 13,
   "id": "dac07ef7",
   "metadata": {},
   "outputs": [],
   "source": [
    "full_df.columns = full_df.columns.str.strip().str.lower().str.replace(\" \", \"_\")"
   ]
  },
  {
   "cell_type": "code",
   "execution_count": null,
   "id": "e6218936",
   "metadata": {},
   "outputs": [
    {
     "data": {
      "text/plain": [
       "case_id                                   0\n",
       "hospital_code                             0\n",
       "hospital_type_code                        0\n",
       "city_code_hospital                        0\n",
       "hospital_region_code                      0\n",
       "available_extra_rooms_in_hospital         0\n",
       "department                                0\n",
       "ward_type                                 0\n",
       "ward_facility_code                        0\n",
       "bed_grade                               148\n",
       "patientid                                 0\n",
       "city_code_patient                      6689\n",
       "type_of_admission                         0\n",
       "severity_of_illness                       0\n",
       "visitors_with_patient                     0\n",
       "age                                       0\n",
       "admission_deposit                         0\n",
       "stay                                 137057\n",
       "is_train                                  0\n",
       "dtype: int64"
      ]
     },
     "execution_count": 15,
     "metadata": {},
     "output_type": "execute_result"
    }
   ],
   "source": [
    "# Fill missing numerical values with median\n",
    "full_df.isnull().sum()\n",
    "\n"
   ]
  }
 ],
 "metadata": {
  "kernelspec": {
   "display_name": "base",
   "language": "python",
   "name": "python3"
  },
  "language_info": {
   "codemirror_mode": {
    "name": "ipython",
    "version": 3
   },
   "file_extension": ".py",
   "mimetype": "text/x-python",
   "name": "python",
   "nbconvert_exporter": "python",
   "pygments_lexer": "ipython3",
   "version": "3.12.4"
  }
 },
 "nbformat": 4,
 "nbformat_minor": 5
}
